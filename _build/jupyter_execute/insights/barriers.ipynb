{
 "cells": [
  {
   "cell_type": "markdown",
   "metadata": {},
   "source": [
    "# Barriers to Involvement"
   ]
  },
  {
   "cell_type": "markdown",
   "metadata": {},
   "source": [
    "**“What do you see as the barriers preventing you from being involved in the arts at the University of Michigan (if you experienced any)?\"**"
   ]
  },
  {
   "cell_type": "markdown",
   "metadata": {
    "tags": [
     "epigraph"
    ]
   },
   "source": [
    "> “The great and sad part of UM is the wealth of talented individuals who go here-- makes it hard for me, a moderately talented individual in a number of fields, to try out for a play or musical group and actually make it because I'm competing with, for example, percussion majors for Groove and theatre majors for a part in a play.” \n",
    "- UM student"
   ]
  },
  {
   "cell_type": "markdown",
   "metadata": {},
   "source": [
    "## Overview \n",
    "\n",
    "We asked this question about barriers as a way to better understand — from a student’s perspective — what might keep them from engaging in the arts in college - either in general or to the degree to which they would have preferred. The question was open-ended so as not to presume to know how students would articulate the barriers. The expectation was that we would not to get a comprehensive laundry list of obstacles, just the ones that are most important to them. \n",
    "\n",
    "---\n",
    "\n",
    "### Barriers to Involvement  \n",
    "\n",
    "- Personal Capacity, Priorities, and Preferences\n",
    "- Competition & Selectivity within Majors and Clubs\n",
    "- Access: Time, Timing, Location, Cost, and Major\n",
    "- Personal Interest, Confidence, and/or Familiarity\n",
    "- Course Availability for Non-Majors\n",
    "- Distance and Location\n",
    "- Awareness, Marketing, and Communication\n",
    "\n",
    "---\n",
    "\n",
    "\n",
    "### General Implications\n",
    "\n",
    "- Familiarity, comfort and interest drive engagement to overcome barriers.\n",
    "\n",
    "- For some, the barriers are seemingly straightforward. For others, there are multiple challenges.\n",
    "\n",
    "- Structural barriers imposed by disciplines, major, culture, and location are real and unevenly experienced.\n",
    "\n",
    "- Interest in the arts and students' experiences of barriers may be moderated by their environments and prior exposure to the arts.\n",
    "\n",
    "---"
   ]
  },
  {
   "cell_type": "markdown",
   "metadata": {
    "tags": [
     "popout"
    ]
   },
   "source": [
    "**Topic Model Results** \n",
    "We estimated a topic model with 24 topics, 3857 open-ended responses, and a 537 word dictionary (after removing stop words). \n",
    "\n",
    "The resulting topics are interpreted and described in the accompanying sections, and the responses reflect two major topic branches: **University Context** and **Priorities and Tradeoffs**. The hierarchical tree visualization of topic nodes illustrates both curricular and co-curricular challenges.  \n",
    "\n",
    "**[Click here for an interactive tree viewer for the 'barriers' topics.](../images/barriers/barriers-tree.html)**"
   ]
  },
  {
   "cell_type": "markdown",
   "metadata": {},
   "source": [
    "## Summary of Topic Analysis Results\n",
    "\n",
    "We estimated a topic model using 3857 open-ended responses, resulting in a 537 word dictionary (after removing stop words) and a model with 24 topics. The resulting topics are interpreted and described in the accompanying section on [Topic Descriptions](../insights/barriers/topics.html), and the responses reflect two major topic branches: **University Context** and **Priorities and Tradeoffs**. **University Context** responses are those that have a direct link to the environment at the University of Michigan, a large, highly selective 4-year college. Under **Social Climate**, students reported Apprehension over whether their ability or experience was sufficient to gain access to student arts groups or organizations, or whether the **Exclusiveness** of the audition process, the large U-M student talent pool, or the closed social groupings of student in the arts would conspire to keep them from a successful entry into organized and high level arts participation through primarily student organizations. There were also a number of barriers related to overall the **University Structure**, in both their academic programs (access and availability of courses they could take in the arts) and the lack of priority that was placed on the arts. Finally, U-M’s large decentralized campus environment made finding and accessing **Publicity** very difficult, frustrating students who felt it was a barrier that caused them to miss out on arts opportunities.\n",
    "\n",
    "The **Priorities and Tradeoffs** node is fairly self explanatory, with **Academic Priorities** and **Time** being major (and likely expected) reported topic areas. The less reported **Logistics** node encompassed several more tangible barriers, such as **Distance Between Campuses** (time, convenience, transportation), **Cost**, and the **Friend/Cost Ecosystem** that describes not having peers with whom they can engage in arts events, so the **Cost** barrier, however that might be otherwise defined, was not overcome with an expected social outcome.\n",
    "\n",
    "Students also described they were just **Not Engaged** around the arts, primarily due to **Lack of Personal Interest** or a sense of **Ennui**. There were also those who reported **No Barriers**, although often with the caveat that upon reflection they could report or imagine some potential barriers (**No Barriers, Except**).\n",
    "\n",
    "---"
   ]
  },
  {
   "cell_type": "markdown",
   "metadata": {
    "tags": [
     "full_width"
    ]
   },
   "source": [
    "<a href=\"/insights/barriers/tree.html\"><img src=\"/images/barriers/barriers_tree_viz.svg\" title=\"Barriers topics tree visualization -- click to redirect to interactive visualization\" width=\"800\" /></a>\n",
    "ABOVE: Tree visualization of the Barriers topic model representing 3857 students responses. The responses reflect two major topic branches: **University Context** and **Priorities and Tradeoffs**, encompassing both curricular and co-curricular challenges."
   ]
  },
  {
   "cell_type": "markdown",
   "metadata": {},
   "source": [
    "## Summary of Principal Components Analysis Results\n",
    "\n",
    "Five dimensions accounted for a cumulative 51% of the variation among the responses (n=3852) around the ‘barriers’ question. The five dimensions were extracted for further description and analysis, and each dimension is characterized by distributions of responses that illustrate different themes that may sometimes in tension with each other. Each of these dimensions is described in more detail in the [dimensions section.](../insights/barriers/dimensions.html)\n",
    "\n",
    "Dimension 1: **Personal Capacity -vs- Climate of Exclusion**\n",
    "\n",
    "Dimension 2: **Clear Barriers: Time, Location, Money, Major -vs- Other Interests**\n",
    "\n",
    "Dimension 3: **Dialectical Complexity (more -vs- less)**\n",
    "\n",
    "Dimension 4: **Lack of Personal Interest, Confidence, and/or Familiarity -vs- Distance + Awareness**\n",
    "\n",
    "Dimension 5: **Course Availability -vs- Access: Location and Awareness**\n",
    "\n",
    "---"
   ]
  },
  {
   "cell_type": "markdown",
   "metadata": {},
   "source": [
    "## Summary of Demographic Contrasts Results\n",
    "\n",
    "The analysis revealed associations between demographic factor level contrasts for Dimensions 1, 2, 4, and 5. Dimension 3 (*Dialectical Complexity*) did not reveal any association with any of the demographic factors included in the analysis. There were 'school' and 'income' differences for Dimension 1. Differences for 'sex' emerged for Dimensions 2, 4, and 5. Prior exposure to the arts was particularly relevant for Dimensions 2 and 4. Demographic factors that had associations with each of the dimensions are described in more detail in the [demographics section.](../insights/barriers/demographics.html)\n",
    "\n",
    "---"
   ]
  },
  {
   "cell_type": "markdown",
   "metadata": {
    "tags": [
     "remove_cell"
    ]
   },
   "source": [
    "- ## University Context \n",
    "    - ## Social Climate\n",
    "\t\t- ## Apprehension\n",
    "\t\t\t- ## Lack of Familiarity\n",
    "\t\t\t- ## Low Confidence\n",
    "\t\t- Exclusiveness\n",
    "\t\t\t- Unwelcoming Environment\n",
    "\t\t\t- Competitive Auditions\n",
    "\t- University Structure\n",
    "\t\t- Academic Program Requirements\n",
    "\t\t- University Priorities\n",
    "\t\t- Departmental Segregation\n",
    "\t- Publicity\n",
    "\t\t- Accessibility\n",
    "\t\t- Awareness\n",
    "\n",
    "\n",
    "- Priorities & Tradeoffs\n",
    "\t- Academic Priorities\n",
    "\t\t- Fit With Major and Course Scarcity\n",
    "\t\t- Course Load\n",
    "\t- Time\n",
    "\t- Logistics\n",
    "\t\t- Distance Between Campuses\n",
    "\t\t- Cost\n",
    "\t\t- Friend/Cost Ecosystem\n",
    "\t- Not Engaged\n",
    "\t\t- No Barriers, Except...\n",
    "\t\t- Lack of Personal Interest\n",
    "\t\t- No Barriers\n",
    "\t\t- Ennui\n"
   ]
  },
  {
   "cell_type": "markdown",
   "metadata": {},
   "source": [
    "\n",
    "```{toctree}\n",
    ":hidden:\n",
    ":titlesonly:\n",
    "\n",
    "\n",
    "Topic Tree <barriers/tree>\n",
    "Topic Descriptions <barriers/topics>\n",
    "Underlying Factors <barriers/dimensions>\n",
    "```\n"
   ]
  }
 ],
 "metadata": {
  "celltoolbar": "Tags",
  "kernelspec": {
   "display_name": "Python 3",
   "language": "python",
   "name": "python3"
  },
  "language_info": {
   "codemirror_mode": {
    "name": "ipython",
    "version": 3
   },
   "file_extension": ".py",
   "mimetype": "text/x-python",
   "name": "python",
   "nbconvert_exporter": "python",
   "pygments_lexer": "ipython3",
   "version": "3.8.1"
  }
 },
 "nbformat": 4,
 "nbformat_minor": 4
}