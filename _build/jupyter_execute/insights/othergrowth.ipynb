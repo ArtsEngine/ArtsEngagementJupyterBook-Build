{
 "cells": [
  {
   "cell_type": "markdown",
   "metadata": {},
   "source": [
    "# Personal Growth"
   ]
  },
  {
   "cell_type": "markdown",
   "metadata": {},
   "source": [
    "**“In what ways do you think you can grow (through the arts)?\"**"
   ]
  },
  {
   "cell_type": "markdown",
   "metadata": {
    "tags": [
     "epigraph"
    ]
   },
   "source": [
    "> “Personal expression. The arts force you to reflect on yourself, what you’ve done in your life, how you feel about it, and what that means to you. I have yet to find another activity that forces you to do all of this like being in the Arts.”\n",
    "\n",
    "> “I think the arts will help me to stay open to new ways of thinking and new experiences. To me, the arts are a reminder that life does not have to be mundane or routine but can be sublime and wonderful as well.”\n",
    "\n",
    "> “You're killing me with all these questions.”\n",
    "\n",
    "> “...with sun and plenty of water. God, I don't know.”\n",
    "- UM students"
   ]
  },
  {
   "cell_type": "markdown",
   "metadata": {},
   "source": [
    "## Overview \n",
    "\n",
    "On the surveys, this 'othergrowth' question follows the question, *“What role did the arts play in your development as a person, friend, colleague, and student during college?”*. This question was specifically aimed at having students reflect further on what they might see as other ways they could grow through the arts. While we did get some areas of overlap, the character of these responses were more about personal and individual growth, and looking inward to more emotional, cognitive, and expressive areas of change. The additional question was to see if students were able to dig a little deeper, past what might be commonly expected growth areas (***Creativity, Expression, and Communication***) to those that might be more difficult to uncover or convey (***Self-Exploration*** and ***More Self-Aware***).\n",
    "\n",
    "---\n",
    "\n",
    "### IMPACT OF THE ARTS ON PERSONAL GROWTH: IMPLICATIONS\n",
    "\n",
    "- The overall trend is balanced between personal development and/or orientation towards others.\n",
    "\n",
    "- Openness and exploration of new perspectives and practices.\n",
    "\n",
    "- Cultural fluency and social maturity.\n",
    "\n",
    "- Skills, knowledges, and dispositions of creativity, communication, awareness, leadership, and expression.\n",
    "\n",
    "- Areas of growth are complementarity to other domains of study, work, experience, and socialization.\n",
    "\n",
    "- Integrative thinking is rooted in “receptiveness to new perspectives” and “exploration of others’ points of view. (sample quotes below)\n",
    "\n",
    "    Example Quotes: \n",
    "\n",
    "    > ”I think that people are able to grow through the arts because it provides a needed outlet not only for personal expression of identity, values, and beliefs, but for connecting with one another. Arts are something that require no common language, experiencs, or backgrounds, and people across communities can coexist and learn from one another through the arts.”\n",
    "\n",
    "    > ”By understanding deeper cognitive functions, connecting with others across and because of difference, its connection with newness and yet familiarity. Art performs communicative functions that words cannot. Art goes beyond words.”\n",
    "\n",
    "    > “Step outside your own interests to appreciate the passions of others. It helps to relate to people you otherwise would not understand.”\n",
    "\n",
    "---"
   ]
  },
  {
   "cell_type": "markdown",
   "metadata": {
    "tags": [
     "popout"
    ]
   },
   "source": [
    "**Topic Model Results** \n",
    "We estimated a topic model with 11 topics, 971 open-ended responses, and a 286 word dictionary. (after removing stop words). The resulting topics are interpreted and described in the accompanying sections, and the responses reflect two major topic branches: **Self Fulfillment** and **Humanist Perspective**. \n",
    "\n",
    "**[Click here for an interactive tree viewer for the *Personal Growth* topics.](../insights/othergrowth/tree.html)**"
   ]
  },
  {
   "cell_type": "markdown",
   "metadata": {},
   "source": [
    "<a href=\"/insights/othergrowth/tree.html\"><img src=\"/images/othergrowth/othergrowth-tree.svg\" title=\"Other Growth topics tree visualization\" width=\"800\"/></a>ABOVE: Tree visualization of the Growth topic model representing 971 students responses. The responses reflect two major topic branches: **Self Fulfillment** and **Humanist Perspective**"
   ]
  },
  {
   "cell_type": "markdown",
   "metadata": {},
   "source": [
    "## Summary of Principal Components Analysis and Demographic Contrasts\n",
    "\n",
    "Four dimensions accounted for a cumulative 44% of the variation among the responses (n=971) around the ‘othergrowth’ question. The four dimensions were extracted for further description and analysis, and each dimension is characterized by distributions of responses that illustrate different themes that may sometimes in tension with each other. Demographic factor level contrasts for High School Arts Frequency (`hs_arts_freq`) and High School Location (`hslocation`) were observed for Dimension 2. \n",
    " \n",
    "\n",
    "Dimension 1: **Receptive to New People, Perspectives, and Experiences -vs- Creativity, Self-Expression, and Communication**\n",
    "\n",
    "Dimension 2: **Self-Awareness and Exploration -vs- Awareness and Exploration of Others**\n",
    "\n",
    "Dimension 3: **Cultural Maturity -vs- Personal Skills**\n",
    "\n",
    "Dimension 4: **Social Maturity -vs- More Open-Minded**\n",
    "\n",
    "Each of these dimensions and associated demographic factors is described in more detail in the [dimensions section.](../insights/othergrowth/dimensions.html)\n",
    "\n",
    "---"
   ]
  },
  {
   "cell_type": "markdown",
   "metadata": {},
   "source": [
    "\n",
    "```{toctree}\n",
    ":hidden:\n",
    ":titlesonly:\n",
    "\n",
    "\n",
    "Topic Tree <othergrowth/tree>\n",
    "Topic Descriptions <othergrowth/topics>\n",
    "Underlying Factors <othergrowth/dimensions>\n",
    "```\n"
   ]
  }
 ],
 "metadata": {
  "celltoolbar": "Tags",
  "kernelspec": {
   "display_name": "Python 3",
   "language": "python",
   "name": "python3"
  },
  "language_info": {
   "codemirror_mode": {
    "name": "ipython",
    "version": 3
   },
   "file_extension": ".py",
   "mimetype": "text/x-python",
   "name": "python",
   "nbconvert_exporter": "python",
   "pygments_lexer": "ipython3",
   "version": "3.8.1"
  }
 },
 "nbformat": 4,
 "nbformat_minor": 4
}