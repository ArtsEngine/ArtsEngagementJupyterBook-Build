{
 "cells": [
  {
   "cell_type": "markdown",
   "metadata": {},
   "source": [
    "# Developmental Role"
   ]
  },
  {
   "cell_type": "markdown",
   "metadata": {},
   "source": [
    "```{epigraph}\n",
    "> “The arts helped me grow as a person and a student. I developed much better time management skills as well as effective organization skills. I also became better at communicating and handling conflict between others. Additionally, my involvement in the art led to some of my closest friendships during college.”\n",
    "\n",
    "“Helped me develop patience, creativity in my approaches to problems, ability to articulate ideas about aesthetic qualities, ability to be in conflict with a friend without it being destructive to our friendship, and a greater sense of my personal responsibility in group endeavors.”\n",
    "\n",
    "“It's so corny, but they helped me grow as person and see the world from different point of views.”\n",
    "\n",
    "“Helped me to define my own sense of identity, helped me to find balance in my time between school work/social life/personal enjoyment.”\n",
    "\n",
    "-- UM students\n",
    "```"
   ]
  },
  {
   "cell_type": "markdown",
   "metadata": {},
   "source": [
    "## Overview \n",
    "\n",
    "```{admonition} Survey Question\n",
    "***“What role did the arts play in your development as a person, friend, colleague, and student during college?”***\n",
    "```\n",
    "\n",
    "### Summary of Topic Model Results\n",
    "\n",
    "We estimated a topic model with 10 topics, 812 open-ended responses, and a 322 word dictionary. (after removing stop words). The resulting topics are interpreted and described in the accompanying sections, and the responses reflect two major topic branches: **Social Identity** and **Different Perspectives**. The detailed methods for estimating the model can be found in the section on [Topic Modeling and Interpretation](../insights/analysis/topics.html).\n",
    "\n",
    "This question asked about the role that the arts played in relational terms – to self, and to self in interaction with others. Broadly, these impacts around development of self fall along two main branches: **Social Identity** and **Different Perspectives**. The topic **Social Connections** indicated new and strengthened social bonds and supporting friends by attending and participating in arts activities. Students also reported growth or change in the areas of **Personal Identity**, **Skill Acquisition**, **New Perspectives and Cultural Understandings**, **Better Life Balance**, and, as might be expected, a **Deeper Appreciation of the Arts**. Tken together, this array of topics suggest a significant pro-social role for the the arts in the students' social (and skill) development."
   ]
  },
  {
   "cell_type": "markdown",
   "metadata": {},
   "source": [
    "### Developmental Role Topic Tree \n",
    "\n",
    "```{figure} /images/development/development-tree.svg\n",
    "---\n",
    "---\n",
    "Tree visualization of the Developmental Role topic model representing 812 students responses. {doc}`Go here for the interactive Developmental Role Topic Tree. <development/tree>`\n",
    "``` \n",
    "\n",
    "---"
   ]
  }
 ],
 "metadata": {
  "celltoolbar": "Tags",
  "kernelspec": {
   "display_name": "Python 3",
   "language": "python",
   "name": "python3"
  },
  "language_info": {
   "codemirror_mode": {
    "name": "ipython",
    "version": 3
   },
   "file_extension": ".py",
   "mimetype": "text/x-python",
   "name": "python",
   "nbconvert_exporter": "python",
   "pygments_lexer": "ipython3",
   "version": "3.8.3"
  }
 },
 "nbformat": 4,
 "nbformat_minor": 4
}
