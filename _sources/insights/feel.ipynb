{
 "cells": [
  {
   "cell_type": "markdown",
   "metadata": {},
   "source": [
    "# Emotional Impact"
   ]
  },
  {
   "cell_type": "markdown",
   "metadata": {},
   "source": [
    "```{epigraph}\n",
    "“Fulfilled. Endowed with a sense of purpose. Exhausted and sweaty and angry and bitter and alive and beautiful.”\n",
    "\n",
    "-- UM student\n",
    "```"
   ]
  },
  {
   "cell_type": "markdown",
   "metadata": {},
   "source": [
    "## Overview \n",
    "\n",
    "```{admonition} Survey Question\n",
    "***“How did your involvement in the arts in college make you feel?\"***\n",
    "```\n",
    "\n",
    "This question *“How did your involvement in the arts during college make you feel?”* was asked to elicit what the range of emotional responses to arts engagement in college might encompass for students. If the arts are an “expressive dialogue between the artist and the audience,” being able to articulate feelings associated with that engagement describes a whole universe of outcomes that may be associated with becoming more Enlightened. There are also negative emotions reported, such as being frustrated or discouraged, as art often deals with challenging subject matter, difficult mastery and technique challenges, and working with others under the conditions of fierce aesthetic direction and unrelenting deadlines.\n",
    "\n",
    "Student respondents involved in the arts reported feelings of being empowered and fulfilled, successful and accomplished, connected and culturally aware, happy and entertained, balanced and expressive, grateful and meaningful, and refreshed and less stressed. There were also a large number of students who expressed some level of regret in having not participated in the arts in college to a greater extent.\n",
    "\n",
    "---\n",
    "\n",
    "## ARTS’ AFFECT: IMPLICATIONS\n",
    "\n",
    "- Overwhelmingly positive.\n",
    "\n",
    "- Connected, Fulfilled, Empowered, Grateful, Meaningful, Cultured, Accomplished, Successful, Well-Rounded, Balanced, Entertained\n",
    "\n",
    "- The arts make people feel connected and part of something larger.\n",
    "\n",
    "- Where there was ambivalence, expressions of regret.\n",
    "\n",
    "- High school participation may be strongly influential.\n",
    "\n",
    "\n",
    "---"
   ]
  },
  {
   "cell_type": "markdown",
   "metadata": {},
   "source": [
    "## Summary of Topic Analysis Results\n",
    "\n",
    "We estimated a topic model using 1207 open-ended responses, resulting in a 286 word dictionary (after removing stop words) and a model with 14 topics. The resulting topics are interpreted and described in the accompanying {doc}`Topic Description section. <feel/topics>`. The responses reflect overwhelmingly positive outcomes, although there are sources of ambivalence as well. \n",
    "\n",
    "### Emotional Impacts Topic Tree \n",
    "\n",
    "```{figure} /images/feel/feel-tree.svg\n",
    "---\n",
    "---\n",
    "Tree visualization of the Emotional Impacts topic model representing 1207 students responses. {doc}`Go here for the interactive Emotional Impacts Topic Tree. <feel/tree>`\n",
    "``` \n",
    "\n",
    "---"
   ]
  },
  {
   "cell_type": "markdown",
   "metadata": {},
   "source": [
    "## Summary of Principal Components Analysis and Demographic Contrasts\n",
    "\n",
    "Five dimensions accounted for a cumulative 56% of the variation among the responses (n=654) around the ‘emotional impacts’ question. The five dimensions were extracted for further description and analysis, and each dimension is characterized by distributions of responses that illustrate different themes that may sometimes in tension with each other. Each of these dimensions is described in more detail in the {doc}`dimensions section. <feel/dimensions>`\n",
    "\n",
    "```{glossary}\n",
    "Dimension 1: \n",
    "    **Very Positive -vs- Ambivalent (positive)**\n",
    "\n",
    "Dimension 2:\n",
    "    **Connected and Fulfilled -vs- Enjoyment and Regret**\n",
    "\n",
    "Dimension 3:\n",
    "    **Empowered -vs- Meaningfully Gratified**\n",
    "\n",
    "Dimension 4:\n",
    "    **Less Elaborative -vs- More Elaborative**\n",
    "\n",
    "Dimension 5:\n",
    "    **Cultured -vs- Accomplished**\n",
    "```\n",
    "\n",
    "---\n",
    "\n",
    "## Summary of Demographic Contrasts\n",
    "Demographic factor level contrasts were observed for Dimensions 2, 3, 4, and 5. Dimensions 2, 4, and 5 each showed an association with High School Arts Frequency (`hs_arts_freq`). `sr_participated` and `artsincollege` also showed contrasts for Dimension 2, suggesting a firm role of prior exposure to the arts for Dimension 2. High School Location (`hslocation`) and `so_childhood5` differences emerged for for Dimension 3. "
   ]
  }
 ],
 "metadata": {
  "celltoolbar": "Tags",
  "kernelspec": {
   "display_name": "Python 3",
   "language": "python",
   "name": "python3"
  },
  "language_info": {
   "codemirror_mode": {
    "name": "ipython",
    "version": 3
   },
   "file_extension": ".py",
   "mimetype": "text/x-python",
   "name": "python",
   "nbconvert_exporter": "python",
   "pygments_lexer": "ipython3",
   "version": "3.8.3"
  }
 },
 "nbformat": 4,
 "nbformat_minor": 4
}
