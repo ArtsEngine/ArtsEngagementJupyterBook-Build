{
 "cells": [
  {
   "cell_type": "markdown",
   "metadata": {},
   "source": [
    "# Plots for Principal Components x Demographic Factors\n",
    "\n",
    "This notebook generates density plots from question topic principal components, by demographic."
   ]
  },
  {
   "cell_type": "markdown",
   "metadata": {},
   "source": [
    "## Load libraries, scripts, and data"
   ]
  },
  {
   "cell_type": "code",
   "execution_count": 1,
   "metadata": {
    "collapsed": true,
    "tags": [
     "remove_output"
    ]
   },
   "outputs": [
    {
     "name": "stderr",
     "output_type": "stream",
     "text": [
      "── Attaching packages ─────────────────────────────────────── tidyverse 1.2.1 ──\n",
      "✔ ggplot2 3.1.0     ✔ purrr   0.2.5\n",
      "✔ tibble  2.0.1     ✔ dplyr   0.7.8\n",
      "✔ tidyr   0.8.2     ✔ stringr 1.3.1\n",
      "✔ readr   1.3.1     ✔ forcats 0.3.0\n",
      "Warning message:\n",
      "“package ‘tibble’ was built under R version 3.5.2”── Conflicts ────────────────────────────────────────── tidyverse_conflicts() ──\n",
      "✖ dplyr::filter() masks stats::filter()\n",
      "✖ dplyr::lag()    masks stats::lag()\n",
      "\n",
      "Attaching package: ‘magrittr’\n",
      "\n",
      "The following object is masked from ‘package:purrr’:\n",
      "\n",
      "    set_names\n",
      "\n",
      "The following object is masked from ‘package:tidyr’:\n",
      "\n",
      "    extract\n",
      "\n",
      "Warning message:\n",
      "“package ‘FactoMineR’ was built under R version 3.5.2”"
     ]
    }
   ],
   "source": [
    "library(tidyverse)\n",
    "library(magrittr)\n",
    "library(broom)\n",
    "library(FactoMineR)\n",
    "library(emmeans)"
   ]
  },
  {
   "cell_type": "code",
   "execution_count": 2,
   "metadata": {},
   "outputs": [],
   "source": [
    "load('../data/merged_artsengagement.rda')\n",
    "load('../data/tidy_questions_best.Rda')\n",
    "source('../scripts/select_helpers.R')\n",
    "load('../data/pca_labels.rda')"
   ]
  },
  {
   "cell_type": "markdown",
   "metadata": {},
   "source": [
    "## Subset demographic variables"
   ]
  },
  {
   "cell_type": "code",
   "execution_count": 3,
   "metadata": {},
   "outputs": [],
   "source": [
    "real_demos <- c('ethnic_group', 'sex', 'school', 'parented', 'income', 'artsincollege', 'hstype', 'hssize',\n",
    "           'hslocation', 'hs_arts_freq', 'hs_encouragement', 'hs_required', 'hs_fees',\n",
    "           'so_childhood1', 'so_childhood3', 'so_childhood5', 'sr_participated',\n",
    "               'sr_highestdegreeplanned')"
   ]
  },
  {
   "cell_type": "markdown",
   "metadata": {},
   "source": [
    "## Define helper functions"
   ]
  },
  {
   "cell_type": "code",
   "execution_count": 4,
   "metadata": {},
   "outputs": [],
   "source": [
    "stripnames <- function(data, question) {\n",
    "    data <- data %>% select('rownums', starts_with(question))\n",
    "    varnames <- names(data)\n",
    "    newnames <- varnames\n",
    "    for (i in seq(3, length(varnames))) {\n",
    "        newnames[i] <- substr(varnames[i], gregexpr(\"\\\\.\\\\.\", varnames[i])[[1]][1]+2, nchar(varnames[i]))\n",
    "    }\n",
    "    names(data) <- newnames\n",
    "    return(data)\n",
    "}\n",
    "\n",
    "stripVars <- function(data) {\n",
    "    #remove irrelavant variables\n",
    "    removenames <- names(data %>% select(matches(\"AIC..Words|AIC..IC_Differentiation|AIC..IC_Integration|AIC..DIAL_Differentiation|AIC..DIAL_Integration|AIC..ELAB_Differentiation|AIC..ELAB_Integration|docuscope..OralCues|docuscope..DialogCues|docuscope..XWordTokens|docuscope..XPunctuationTokens|docuscope..XTokens|LIWC..WC|LIWC..Sixltr|LIWC..Dic|LIWC..WPS|LIWC..swear|LIWC..netspeak|LIWC..assent|LIWC..nonflu|LIWC..filler|LIWC..AllPunc|LIWC..Period|LIWC..Comma|LIWC..Colon|LIWC..SemiC|LIWC..QMark|LIWC..Exclam|LIWC..Dash|LIWC..Quote|LIWC..Apostro|LIWC..Parenth|LIWC..OtherP\")))\n",
    "    data <- data[ , !names(data) %in% removenames]\n",
    "    return(data)\n",
    "}\n",
    "\n",
    "mergeQuestion <- function(data, question) {\n",
    "    if (substr(question, 3,3) == '_') {\n",
    "        question <- substr(question, 4, nchar(question))\n",
    "    }\n",
    "    # if you're aware of other prefixes, add them here\n",
    "    yrs <- c(NA,'fl','f1','f2','so','jr','sr','sl')\n",
    "    data$rownums <- seq(nrow(data)) # add rownums so resulting data can be re-integrated\n",
    "    mergeddf <- data.frame()\n",
    "    for (yr in yrs) {\n",
    "        if (question == 'definition' && is.na(yr))\n",
    "            qyr <- question\n",
    "        else if (is.na(yr))\n",
    "            next\n",
    "        else {\n",
    "            qyr <- paste0(yr, '_', question)\n",
    "        }\n",
    "        if (data %>% select(starts_with(qyr)) %>% ncol == 0) { next }\n",
    "        tempdf <- stripnames(data, qyr)\n",
    "        names(tempdf)[2] <- question\n",
    "        mergeddf <- bind_rows(mergeddf, tempdf)        \n",
    "    }\n",
    "    mergeddf <- mergeddf[complete.cases(mergeddf),]\n",
    "    mergeddf <- mergeddf %>% stripVars\n",
    "    rownames(mergeddf) <- c()\n",
    "    return(mergeddf)\n",
    "}"
   ]
  },
  {
   "cell_type": "markdown",
   "metadata": {},
   "source": [
    "### Filter demographics to those within min & max levels (inclusive) into small_demos variable"
   ]
  },
  {
   "cell_type": "code",
   "execution_count": 7,
   "metadata": {},
   "outputs": [
    {
     "data": {
      "text/html": [
       "<ol class=list-inline>\n",
       "\t<li>'sex'</li>\n",
       "\t<li>'income'</li>\n",
       "\t<li>'artsincollege'</li>\n",
       "\t<li>'hssize'</li>\n",
       "\t<li>'hslocation'</li>\n",
       "\t<li>'hs_arts_freq'</li>\n",
       "\t<li>'hs_encouragement'</li>\n",
       "\t<li>'hs_required'</li>\n",
       "\t<li>'hs_fees'</li>\n",
       "\t<li>'so_childhood1'</li>\n",
       "\t<li>'so_childhood3'</li>\n",
       "\t<li>'so_childhood5'</li>\n",
       "\t<li>'sr_participated'</li>\n",
       "\t<li>'sr_highestdegreeplanned'</li>\n",
       "</ol>\n"
      ],
      "text/latex": [
       "\\begin{enumerate*}\n",
       "\\item 'sex'\n",
       "\\item 'income'\n",
       "\\item 'artsincollege'\n",
       "\\item 'hssize'\n",
       "\\item 'hslocation'\n",
       "\\item 'hs\\_arts\\_freq'\n",
       "\\item 'hs\\_encouragement'\n",
       "\\item 'hs\\_required'\n",
       "\\item 'hs\\_fees'\n",
       "\\item 'so\\_childhood1'\n",
       "\\item 'so\\_childhood3'\n",
       "\\item 'so\\_childhood5'\n",
       "\\item 'sr\\_participated'\n",
       "\\item 'sr\\_highestdegreeplanned'\n",
       "\\end{enumerate*}\n"
      ],
      "text/markdown": [
       "1. 'sex'\n",
       "2. 'income'\n",
       "3. 'artsincollege'\n",
       "4. 'hssize'\n",
       "5. 'hslocation'\n",
       "6. 'hs_arts_freq'\n",
       "7. 'hs_encouragement'\n",
       "8. 'hs_required'\n",
       "9. 'hs_fees'\n",
       "10. 'so_childhood1'\n",
       "11. 'so_childhood3'\n",
       "12. 'so_childhood5'\n",
       "13. 'sr_participated'\n",
       "14. 'sr_highestdegreeplanned'\n",
       "\n",
       "\n"
      ],
      "text/plain": [
       " [1] \"sex\"                     \"income\"                 \n",
       " [3] \"artsincollege\"           \"hssize\"                 \n",
       " [5] \"hslocation\"              \"hs_arts_freq\"           \n",
       " [7] \"hs_encouragement\"        \"hs_required\"            \n",
       " [9] \"hs_fees\"                 \"so_childhood1\"          \n",
       "[11] \"so_childhood3\"           \"so_childhood5\"          \n",
       "[13] \"sr_participated\"         \"sr_highestdegreeplanned\""
      ]
     },
     "metadata": {},
     "output_type": "display_data"
    }
   ],
   "source": [
    "min = 2\n",
    "max = 5\n",
    "temp <- demodfpcs %>% sapply(function(x)(x %>% levels %>% length)) %>% as.data.frame\n",
    "temp$demo <- rownames(temp)\n",
    "temp <- temp %>% filter(. >= min & max >= .)\n",
    "small_demos <- temp %>% pull(demo)\n",
    "small_demos"
   ]
  },
  {
   "cell_type": "markdown",
   "metadata": {},
   "source": [
    "## Loop over all questions, generating PCs, munging their data, and finally generating graphs for them all\n",
    "I recommend letting the code run for say 10 seconds then interrupt code execution to then print out / explore the variables being used within the ggplot code. Alternatively, break the code into chunks to see what each chunk does."
   ]
  },
  {
   "cell_type": "code",
   "execution_count": 11,
   "metadata": {},
   "outputs": [],
   "source": [
    "dir_to_save_results = './results'\n",
    "plot_type = 'density_plots' # plural\n",
    "output_format = '.pdf' # with dot\n",
    "\n",
    "dir.create(dir_to_save_results, showWarnings = F)\n",
    "# for all stm'd questions\n",
    "for(question in question_names[-c(4:6,9:14)]) {\n",
    "    dir.create(paste(dir_to_save_results, question, sep = '/'), showWarnings = F)\n",
    "    \n",
    "    # data subsetting, PC creation\n",
    "    data_subset <- mergeQuestion(df, question)\n",
    "    data_subset_rows <- data_subset[[1]]\n",
    "    data_subset <- data_subset[-1]\n",
    "    data_subset <- data_subset[-1]\n",
    "    percent <- 0.4\n",
    "    data_subset <- data_subset[ lapply( data_subset, function(x) sum(x==0) / length(x) ) < percent ]\n",
    "                                       \n",
    "    # principal component generation\n",
    "    pd <- prcomp(data_subset, retx= TRUE, center=TRUE, scale=TRUE)\n",
    "\n",
    "    # merge PCs with demographic cols\n",
    "    pcs <- data.frame(rownum = data_subset_rows, pd$x[,seq(5)] %>% as.data.frame)\n",
    "    rownums <- pcs$rownum %>% sort\n",
    "    pcs <- pcs %>% arrange(rownum)\n",
    "    pcs <- pcs[-1]\n",
    "    demodfpcs <- bind_cols(df[rownums,c('key',real_demos)], pcs)\n",
    "\n",
    "    # weighting by # of responses per respondent\n",
    "    resps_by_key <- demodfpcs$key %>% table %>% as.data.frame\n",
    "    names(resps_by_key) <- c('key','n')\n",
    "    resps_by_key %<>% filter(n!=0)\n",
    "    for(r in seq(nrow(demodfpcs))) {\n",
    "        nresps <- resps_by_key %>% filter(key == demodfpcs[r,]$key) %>% .$n\n",
    "        demodfpcs[r, names(select(demodfpcs,matches('PC[12345]')))] <- (1/nresps) *\n",
    "                                                        (demodfpcs[r, names(select(demodfpcs,matches('PC[12345]')))])\n",
    "    }\n",
    "                                       \n",
    "    # separate PCs and demographics\n",
    "    demodfpcs <- demodfpcs %>% select(-'key')\n",
    "    demodf <- demodfpcs %>% select(-matches('PC[12345]'))\n",
    "    pcs <- demodfpcs %>% select(matches('PC[12345]'))\n",
    "                                       \n",
    "    # plotting (by PC)\n",
    "    for(p in seq(pcs)) {\n",
    "        # combine individual PC with demographics\n",
    "        temp <- bind_cols(pcs[p], demodf)\n",
    "        names(temp) <- c(\"pc\", names(temp)[-1])\n",
    "        \n",
    "        # for each demographic...\n",
    "        for(d in seq(small_demos)) {\n",
    "            mu <- temp %>% na.omit %>% group_by_at(vars(small_demos[d])) %>%\n",
    "                    summarise(grp.median=median(pc))\n",
    "\n",
    "            ggplot(na.omit(demodfpcs), aes_string(x=names(pcs)[p], fill=small_demos[d])) +\n",
    "                geom_density(alpha=0.4) +\n",
    "                xlim(round(na.omit(pcs[[p]]) %>% summary %>% tidy %>% .$minimum)-0.5, \n",
    "                     round(na.omit(pcs[[p]]) %>% summary %>% tidy %>% .$maximum)+.5) +\n",
    "                geom_vline(data=mu, aes_string(xintercept='grp.median', color=names(mu)[1]),\n",
    "                         linetype=\"dashed\") +\n",
    "                labs(subtitle=paste0('pos-x: ', pca_labels %>% \n",
    "                      filter(question_name==question) %>% \n",
    "                      select(matches(paste0(p,'_pos'))) %>%\n",
    "                      pull %>% as.character,\n",
    "                     '\\nneg-x: ', pca_labels %>% \n",
    "                      filter(question_name==question) %>% \n",
    "                      select(matches(paste0(p,'_neg'))) %>%\n",
    "                      pull %>% as.character)) +\n",
    "                theme(plot.subtitle = element_text(size=10))\n",
    "\n",
    "            # saving\n",
    "            dir.create(paste(dir_to_save_results, question, names(pcs)[p], sep='/'), showWarnings = F)\n",
    "            dir.create(paste(dir_to_save_results, question, names(pcs)[p], plot_type,sep='/'), showWarnings = F)\n",
    "            ggsave(paste(dir_to_save_results, question, names(pcs)[p], plot_type, \n",
    "                         paste0(small_demos[d], output_format),sep='/'), \n",
    "                   width = 5, height=4)\n",
    "        }\n",
    "    }\n",
    "}"
   ]
  }
 ],
 "metadata": {
  "kernelspec": {
   "display_name": "R",
   "language": "R",
   "name": "ir"
  },
  "language_info": {
   "codemirror_mode": "r",
   "file_extension": ".r",
   "mimetype": "text/x-r-source",
   "name": "R",
   "pygments_lexer": "r",
   "version": "3.6.2"
  }
 },
 "nbformat": 4,
 "nbformat_minor": 2
}