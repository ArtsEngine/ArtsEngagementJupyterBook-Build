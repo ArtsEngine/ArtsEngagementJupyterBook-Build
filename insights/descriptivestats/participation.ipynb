{
 "cells": [
  {
   "cell_type": "markdown",
   "metadata": {},
   "source": [
    "# Arts Participation and Learning Outcomes"
   ]
  },
  {
   "cell_type": "markdown",
   "metadata": {},
   "source": [
    "```{admonition} Survey Question\n",
    "***“How do different type of arts participation affect learning and\n",
    "development outcomes?\"***\n",
    "\n",
    "RESULTS: Outcomes (Q27) x level of participation (ranked by frequently)\n",
    "\n",
    "RESULTS: For each arts type x Outcomes Q27 x for each of 3 levels of\n",
    "participation\n",
    "\n",
    "```\n",
    "\n"
   ]
  }
 ],
 "metadata": {
  "celltoolbar": "Tags",
  "kernelspec": {
   "display_name": "Python 3",
   "language": "python",
   "name": "python3"
  },
  "language_info": {
   "codemirror_mode": {
    "name": "ipython",
    "version": 3
   },
   "file_extension": ".py",
   "mimetype": "text/x-python",
   "name": "python",
   "nbconvert_exporter": "python",
   "pygments_lexer": "ipython3",
   "version": "3.8.3"
  }
 },
 "nbformat": 4,
 "nbformat_minor": 4
}
