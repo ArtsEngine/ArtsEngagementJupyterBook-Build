{
 "cells": [
  {
   "cell_type": "markdown",
   "metadata": {},
   "source": [
    "# Insights Overview"
   ]
  },
  {
   "cell_type": "markdown",
   "metadata": {},
   "source": [
    "This study draws from a variety of analytical methods. In addition to multiple choice questions, a set of open-ended questions builds on the multiple choice responses and demographic profiles — providing important insights into the diverse frames of students\\` experiences with the arts at UM and in their lives. \n",
    "\n",
    "```{note}\n",
    "There are close to over two dozen different analyses being conducted on this dataset. The results posted here represent a small subset, and many analyses are ongoing in various stages of completion. Rather than waiting for all of the results to be finalized, we are posting the most up-to-date results here — as time and resources permit us to analyze, interpret, and report on the results.\n",
    "```\n",
    "\n",
    "Available or in-process results from the open-ended question responses are highlighted below and linked to their respective pages. These results — particularly when analyzed in conjunction with demographic factors — begin to provide important insights for the design of arts-based experiences in higher education, as well as the impacts of the arts on student learning and engagement. \n",
    "\n",
    "## Student Development \n",
    "- [In what ways do you think you can grow (through arts engagement)? (sr_othergrowth)](othergrowth)\n",
    "- [What role did the arts play in your development as a person, friend, colleague, and student during college? (development)](development)\n",
    "- [Please describe any transformative or meaningful arts experience you had during college (experience)](experience)\n",
    "- How did your behavior or thinking change (as a result of engaging in the arts)? (behavior2) \n",
    "\n",
    "## Wellness\n",
    "- [How did your involvement in the arts in college make you feel? (feel)](feel)\n",
    "- How did being involved in the arts as a child make you feel? (childhood2)\n",
    "- What role do you see the arts playing in society? (society)\n",
    "\n",
    "## UM Experience/Policy\n",
    "- [What do you see as the barriers preventing you from being involved in the arts at the University of Michigan (if you experienced any)? (barriers)](barriers) \n",
    "- [What role did the arts play in your college experience, both positive and negative? (role)](role) \n",
    "- How do you define “the arts”? (definition) \n",
    "\n",
    "## Career/After College\n",
    "- If the arts had any impact on your career choice, please describe. (career)\n",
    "- In what other ways do you see yourself being involved in the arts after college? (aftercollege4)    \n"
   ]
  },
  {
   "cell_type": "code",
   "execution_count": null,
   "metadata": {},
   "outputs": [],
   "source": []
  }
 ],
 "metadata": {
  "celltoolbar": "Tags",
  "kernelspec": {
   "display_name": "Python 3",
   "language": "python",
   "name": "python3"
  },
  "language_info": {
   "codemirror_mode": {
    "name": "ipython",
    "version": 3
   },
   "file_extension": ".py",
   "mimetype": "text/x-python",
   "name": "python",
   "nbconvert_exporter": "python",
   "pygments_lexer": "ipython3",
   "version": "3.8.3"
  }
 },
 "nbformat": 4,
 "nbformat_minor": 4
}
