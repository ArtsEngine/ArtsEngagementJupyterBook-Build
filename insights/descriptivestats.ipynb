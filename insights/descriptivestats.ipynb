{
 "cells": [
  {
   "cell_type": "markdown",
   "metadata": {},
   "source": [
    "# Descriptive Statistics"
   ]
  },
  {
   "cell_type": "markdown",
   "metadata": {
    "tags": [
     "epigraph"
    ]
   },
   "source": [
    "\n",
    "This page describes characteristics of the samle population, including descriptive statics and patterns present. \n",
    "\n",
    "For example: \n",
    "\n",
    "- number of students\n",
    "- schools\n",
    "- demographic breakdowns\n",
    "- etc"
   ]
  },
  {
   "cell_type": "markdown",
   "metadata": {},
   "source": [
    "    <link rel=\"stylesheet\" href=\"css/skeleton.css\" />\n",
    "    <link rel=\"stylesheet\" href=\"css/normalize.css\" />\n",
    "    <link href='https://fonts.googleapis.com/css?family=Inconsolata' rel='stylesheet' type='text/css'>\n",
    "    <link rel=\"stylesheet\" href=\"css/style.css\" />\n",
    "<script src=\"http://d3js.org/d3.v3.min.js\"></script>\n",
    "  <meta charset=\"utf-8\">\n",
    "  <title>JS Bin</title>\n",
    "</head>\n",
    "<body>\n",
    " <div class=\"container\">\n",
    "        <div class=\"row centered\">\n",
    "            <div class=\"ten columns offset-by-one alpha\">\n",
    "                <h1>Outcome VS Arts</h1>\n",
    "            </div>\n",
    "        </div>\n",
    "        <div class=\"row centered\">\n",
    "            <div class=\"six columns offset-by-three alpha\">\n",
    "                <p class=\"desc centered\">How do different type of arts participation affect learning and development outcomes? </p>\n",
    "            </div>\n",
    "        </div>\n",
    "\n",
    "\n",
    "         <div class=\"row centered\">\n",
    "            <div class=\"four columns offset-by-four alpha\" id=\"racesimp\" style=\"margin-top:10px;\">\n",
    "                <h3>Type of Arts:</h3>\n",
    "                <select id=\"Ultra\" onchange=\"run()\">  <!--Call run() function-->\n",
    "     <option value=\"0\">Select</option>\n",
    "     <option value=\"1\">animation</option>\n",
    "     <option value=\"2\">architecture</option>\n",
    "     <option value=\"3\">comedy</option>\n",
    "     <option value=\"4\">comics</option>\n",
    "     <option value=\"5\">crafts</option>\n",
    "     <option value=\"6\">creative writing</option>\n",
    "     <option value=\"7\">dance</option>\n",
    "     <option value=\"8\">film</option>\n",
    "     <option value=\"9\">graphic design</option>\n",
    "     <option value=\"10\">multimedia</option>\n",
    "     <option value=\"12\">music composition</option>\n",
    "     <option value=\"12\">music performance</option>\n",
    "     <option value=\"14\">theatre</option>\n",
    "     <option value=\"15\">visual art</option>\n",
    "     <option value=\"13\">other</option>\n",
    "</select><br><br>   \n",
    "            </div>\n",
    "        </div>\n",
    "\n",
    "      \n",
    "         <div class=\"row centered\">\n",
    "            <div class=\"four columns offset-by-four alpha\" id=\"racesimp\" style=\"margin-top:10px;\">\n",
    "                <h3>Sort by:</h3>\n",
    "                <select id=\"Ultra2\" onchange=\"run2()\">  <!--Call run() function-->\n",
    "     <option value=\"0\">Select</option>\n",
    "     <option value=\"1\">Leadership</option>\n",
    "     <option value=\"2\">Participation</option>\n",
    "     <option value=\"3\">Attendance</option>\n",
    "</select><br><br>   \n",
    "            </div>\n",
    "        </div>\n",
    "\n",
    "\n",
    "        <div class=\"row centered\">\n",
    "    <div class=\"thirty columns offset-by-one alpha\">\n",
    "            <svg width=700 height=1000 class=\"chart\" id=\"chart1\"></svg>\n",
    "            <script src=\"https://code.jquery.com/jquery-3.1.1.min.js\"\n",
    "            integrity=\"sha256-hVVnYaiADRTO2PzUGmuLJr8BLUSjGIZsDYGmIJLv2b8=\"\n",
    "            crossorigin=\"anonymous\"></script>\n",
    "       <script src=\"jsbin.xeruz.js\"></script>\n",
    "\n",
    "\n",
    "    </div>\n",
    "        </div>\n"
   ]
  }
 ],
 "metadata": {
  "celltoolbar": "Tags",
  "kernelspec": {
   "display_name": "Python 3",
   "language": "python",
   "name": "python3"
  },
  "language_info": {
   "codemirror_mode": {
    "name": "ipython",
    "version": 3
   },
   "file_extension": ".py",
   "mimetype": "text/x-python",
   "name": "python",
   "nbconvert_exporter": "python",
   "pygments_lexer": "ipython3",
   "version": "3.8.3"
  }
 },
 "nbformat": 4,
 "nbformat_minor": 4
}
